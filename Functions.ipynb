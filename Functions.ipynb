{
  "nbformat": 4,
  "nbformat_minor": 0,
  "metadata": {
    "colab": {
      "provenance": []
    },
    "kernelspec": {
      "name": "python3",
      "display_name": "Python 3"
    },
    "language_info": {
      "name": "python"
    }
  },
  "cells": [
    {
      "cell_type": "code",
      "execution_count": null,
      "metadata": {
        "id": "sfxARcsr5rOL"
      },
      "outputs": [],
      "source": []
    },
    {
      "cell_type": "markdown",
      "source": [
        "# Functions\n",
        "\n"
      ],
      "metadata": {
        "id": "I-h3Os2z5xVp"
      }
    },
    {
      "cell_type": "markdown",
      "source": [],
      "metadata": {
        "id": "rkwMeqwBFtfi"
      }
    },
    {
      "cell_type": "markdown",
      "source": [
        "# 1. What is Python, and why is it popular?\n",
        "\n",
        " - Python is a popular programming language because it's easy to learn, versatile, and has a large community of users. It's used in many industries, including web development, data science, and machine learning.\n",
        "Why is Python popular?\n",
        "Easy to learn\n",
        "Python's syntax is simple and readable, and it's considered one of the easier programming languages to learn.\n",
        "Open source\n",
        "Python is free to download, and it's open source, which gives developers access to libraries and modules.\n",
        "Versatile\n",
        "Python can be used for many different applications, including web development, data analysis, and machine learning.\n",
        "Large community\n",
        "Python has a large community of users, and it's backed by corporate support from companies like Google, Facebook, and Amazon.\n",
        "Used in many industries\n",
        "Python is used in many industries, including web development, data science, and machine learning -->\n",
        "\n",
        "# 2. What is an interpreter in Python?\n",
        "   - A Python interpreter is a program that reads and executes Python code. Unlike compiled languages like C or C++, which are converted into machine code before execution, Python is an interpreted language. This means that the interpreter reads Python code, analyzes it, and executes it directly.\n",
        "\n",
        "   # 3. What are pre-defined keywords in Python?\n",
        "      - Predefined functions in Python are built-in functions that are provided by the Python language. They can be used to perform common tasks.\n",
        "\n",
        "        Examples of built-in functions\n",
        "\n",
        ".abs: A built-in function\n",
        ".chr: A built-in function\n",
        ".dict: Returns a dictionary (array)\n",
        ".enumerate: Returns a collection as an .enumerate object\n",
        ".float: A built-in function\n",
        ".len: A built-in function\n",
        ".list: A built-in function\n",
        ".ord: Returns an integer of the Unicode character\n",
        ".range: Returns a sequence of numbers\n",
        ".sum: Returns the sum of all numerical values provided in an iterable.\n",
        "\n",
        "# 4. Can keywords be used as variable names?\n",
        "   - No, keywords cannot be used as variable names in most programming languages. Keywords are reserved words that define the language's syntax and structure.\n",
        "\n",
        "# 5. What is mutability in Python?\n",
        "   - In Python, mutability is the ability to change an object's value or state after it's created. Mutable objects can be changed without creating a new object.\n",
        "\n",
        "   Examples of mutable objects:\n",
        "    lists, dictionaries, and sets.\n",
        "\n",
        "   Examples of immutable objects:\n",
        "    Strings, Tuples, Integers, Floats, and Boolean.\n",
        "\n",
        "# 6. Why are lists mutable, but tuples are immutable?\n",
        "  - The main difference between tuples and lists is that tuples are immutable, meaning their contents cannot be changed after creation, while lists are mutable and can be modified. Additionally, tuples are more memory-efficient compared to lists. Tuples can't be changed after they're created, but lists can be modified.\n",
        "\n",
        "# 7. What is the difference between “==” and “is” operators in Python?\n",
        "   - The '==' is referred to as the equality operator. The 'is' is termed as the identity operator. The == operator is used to compare the equality of objects. The is operator is used to check if different variables are pointing to the same object in memory.\n",
        "\n",
        "# 8.  What are logical operators in Python?\n",
        "   - # Example: Logical Operators (AND, OR, NOT) with generic variables\n",
        "a, b, c = True, False, True\n",
        "\n",
        "  AND: Both conditions must be True\n",
        "if a and c:\n",
        "    print(\"Both a and c are True (AND condition).\")\n",
        "\n",
        "  OR: At least one condition must be True\n",
        "if b or c:\n",
        "    print(\"Either b or c is True (OR condition).\")\n",
        "\n",
        "  NOT: Reverses the condition\n",
        "if not b:\n",
        "    print(\"b is False (NOT condition).\"\n",
        "\n",
        "# 9. What is type casting in Python?\n",
        "   - The process of changing a variable's data type in Python is called type casting.Type casting, also known as type conversion. It allows for more flexible operations and data manipulation.\n",
        "\n",
        "   #Examples of type casting\n",
        "- Converting an integer to a float\n",
        "- Converting a float to an integer\n",
        "- Converting a string to a tuple, list, or set\n",
        "- Converting a character to an integer using the ord() function\n",
        "- Converting an integer to a hexadecimal string using the hex() function\n",
        "- Converting an integer to an octal string using the oct() function\n",
        "\n",
        "# 10. What is the difference between implicit and explicit type casting?\n",
        "   - Implicit type casting happens automatically, while explicit type casting is done by the programmer.\n",
        "\n",
        "#Implicit type casting\n",
        "- Also known as widening conversion\n",
        "- Occurs when the compiler or interpreter automatically changes one data type to another\n",
        "- Occurs when there is no loss of data\n",
        "- Examples include converting smaller to larger integral types\n",
        "#Explicit type casting\n",
        "- Also known as narrowing conversion\n",
        "- Occurs when the programmer manually converts one data type to another\n",
        "- Occurs when there is a possibility of data loss\n",
        "- Examples include converting a larger primitive type to a smaller primitive type\n",
        "- Requires a cast expression\n",
        "- Is visible in the source code\n",
        "\n",
        "#When to use explicit type casting\n",
        "When information might be lost in the conversion\n",
        "When the conversion might not succeed for other reasons\n",
        "When you need to access subclass-specific methods or fields that are not available in the superclass.\n",
        "\n",
        "#11. What is the purpose of conditional statements in Python?\n",
        "  - Conditional statements in Python control the flow of a program by executing or skipping blocks of code based on conditions. They are also known as decision-making statements.\n",
        "#Purpose\n",
        "    Make decisions\n",
        "\n",
        "Conditional statements allow you to make decisions in your code, which can make your code more efficient and easier to read.\n",
        "\n",
        "    Direct program flow\n",
        "\n",
        "Conditional statements can direct the flow of your program by executing different blocks of code based on conditions.\n",
        "\n",
        "    Create dynamic programs\n",
        "\n",
        "Conditional statements allow developers to create dynamic and responsive programs that can adapt to different scenarios and user inputs.\n",
        "\n",
        "Types of conditional statements if statement, else statement, elif statement, and nested if statement.\n",
        "\n",
        "#Examples\n",
        "- You can use an if statement to print a message only if a certain condition is met.\n",
        "- You can use if-else statements to segregate even and odd numbers.\n",
        "- You can use the or operator to return True if at least one of the conditions evaluates to True.\n",
        "Types of conditional statements if statement, else statement, elif statement, and nested if statement.\n",
        "\n",
        "#12. How does the elif statement work?\n",
        "- The “elif” keyword in Python, stands for “else if”. It can be used in conditional statements to check for multiple conditions. For example, if the first condition is false, it moves on to the next “elif” statement to check if that condition is true. If none of the conditions are true, the code will execute the else statement.\n",
        "\n",
        "#Examples of using “elif” in Python\n",
        "Elif Syntax\n",
        "“Elif” stands for “else if” in Python. Here’s a very simple example of where is can be used to check multiple conditions and execute a block of code if the conditions are true. The syntax is as follows:\n",
        "\n",
        "if condition1:\n",
        "    # execute code if condition1 is true\n",
        "elif condition2:\n",
        "    # execute code if condition2 is true\n",
        "else:\n",
        "    # execute code if all conditions are false\n",
        "Here’s another simple example where “elif” is used in Python.\n",
        "\n",
        "x = 10\n",
        "\n",
        "if x > 10:\n",
        "    #print(\"x is greater than 10\")\n",
        "\n",
        "elif x < 10:\n",
        "\n",
        "    #print(\"x is less than 10\")\n",
        "else:\n",
        "\n",
        "    #print(\"x is equal to 10\")\n",
        "\n",
        "- In the example above, Python checks the value of the variable x against multiple conditions. If x is greater than 10, it prints “x is greater than 10”. If x is less than 10, it prints “x is less than 10”. Otherwise, if neither of the previous conditions is met, it prints “x is equal to 10”.\n",
        "\n",
        "#13. What is the difference between for and while loops?\n",
        "-\n",
        "\n",
        "#For Loop in Programming:\n",
        "The for loop is used when you know in advance how many times you want to execute the block of code.\n",
        "It iterates over a sequence (e.g., a list, tuple, string, or range) and executes the block of code for each item in the sequence.\n",
        "The loop variable (variable) takes the value of each item in the sequence during each iteration.\n",
        "-\n",
        "#While Loop in Programming:\n",
        "The while loop is used when you don't know in advance how many times you want to execute the block of code. It continues to execute as long as the specified condition is true.\n",
        "It's important to make sure that the condition eventually becomes false; otherwise, the loop will run indefinitely, resulting in an infinite loop.\n",
        "\n",
        "#14. Describe a scenario where a while loop is more suitable than a for loop?\n",
        "-\n",
        "#While Loop:\n",
        " This is ideal when you want the loop to continue executing as long as a certain condition is true. The exact number of iterations isn't known beforehand. It checks the condition before each iteration, making it suitable for scenarios where you're waiting for a particular state or condition to be fulfilled.\n",
        "#For Loop:\n",
        " This loop is used when you know ahead of time how many times you want to run the loop. It is great for iterating over a specific range, a fixed number of times, or over a collection of elements (like items in a list).\n",
        "\n",
        "#Scenario for \"While Loop\":\n",
        "\n",
        "Imagine a situation where you are reading data from a file until you reach the end. You don't know how many lines the file contains, so you need a loop that keeps reading line by line until there are no more lines to read. In such a case, a \"While Loop\" is more appropriate because the number of iterations needed isn't known in advance—it depends on the file's content.\n",
        "\n",
        "#Explanation of the Scenario:\n",
        "\n",
        " 1. Start by initializing a variable to track the number of iterations or the current state (e.g., iteration_count = 0).\n",
        "\n",
        "2. Set a condition flag (e.g., condition_met = False) that will eventually change when the task is complete (like reaching the end of a file).\n",
        "\n",
        "3. Use a \"While Loop\" where the loop continues as long as the condition (condition_met) is not satisfied.\n",
        "\n",
        "4. Within the loop, perform necessary operations, such as reading data or performing computations.\n",
        "\n",
        "5. After each operation, update the condition or the counter. For example, increase the iteration count by 1 (iteration_count += 1).\n",
        "\n",
        "6. If at any point the condition for stopping the loop is fulfilled, such as reaching the required number of iterations or detecting the end of data, change the condition flag to break out of the loop (condition_met = True).\n",
        "\n",
        "#By following these steps in the scenario described, you can effectively determine when a \"While Loop\" is more appropriate than a \"For Loop.\""
      ],
      "metadata": {
        "id": "nsgXWSk67ryI"
      }
    },
    {
      "cell_type": "markdown",
      "source": [
        "PRACTICALS QUESTIOS"
      ],
      "metadata": {
        "id": "MrvzwR2UWNxt"
      }
    },
    {
      "cell_type": "markdown",
      "source": [
        "#question 1\n",
        "- Write a Python program to print \"Hello, World"
      ],
      "metadata": {
        "id": "8kHts6zQa7v3"
      }
    },
    {
      "cell_type": "markdown",
      "source": [],
      "metadata": {
        "id": "4wMPJeKja7pl"
      }
    },
    {
      "cell_type": "code",
      "source": [
        "print(\"Hello, World\")"
      ],
      "metadata": {
        "colab": {
          "base_uri": "https://localhost:8080/"
        },
        "id": "IOllEaEgWd4W",
        "outputId": "324754c0-8025-4f7d-e97e-5b51bd4e121a"
      },
      "execution_count": 3,
      "outputs": [
        {
          "output_type": "stream",
          "name": "stdout",
          "text": [
            "Hello, World\n"
          ]
        }
      ]
    },
    {
      "cell_type": "markdown",
      "source": [],
      "metadata": {
        "id": "s-1kmbgubGuJ"
      }
    },
    {
      "cell_type": "markdown",
      "source": [
        "#question 2\n",
        "-  Write a Python program that displays your name and age."
      ],
      "metadata": {
        "id": "Rhz1rA7ebJ6l"
      }
    },
    {
      "cell_type": "code",
      "source": [
        "name=input(\"Raja Richard Dass:\")\n",
        "age=input(\"29:\")\n",
        "print:(\"Hi, my name is \" + name + \", and I am \" + age + \" years old.\")\n"
      ],
      "metadata": {
        "colab": {
          "base_uri": "https://localhost:8080/"
        },
        "id": "xyuCBK-SXGWb",
        "outputId": "9fff473d-0afd-440d-bb9f-d4592b4ee34a"
      },
      "execution_count": 9,
      "outputs": [
        {
          "name": "stdout",
          "output_type": "stream",
          "text": [
            "Raja Richard Dass:\n",
            "29:\n"
          ]
        }
      ]
    },
    {
      "cell_type": "markdown",
      "source": [],
      "metadata": {
        "id": "JIOUhDSmbPrT"
      }
    },
    {
      "cell_type": "markdown",
      "source": [
        "#quetsion 3\n",
        "-  Write code to print all the pre-defined keywords in Python using the keyword library0"
      ],
      "metadata": {
        "id": "uE_48a3vbXJQ"
      }
    },
    {
      "cell_type": "markdown",
      "source": [],
      "metadata": {
        "id": "cqDkErMrcAKx"
      }
    },
    {
      "cell_type": "code",
      "source": [
        "# Program to check whether a given\n",
        "# word is a Python keyword or not\n",
        "\n",
        "\n",
        "import keyword\n",
        "\n",
        "\n",
        "s =\"if\"\n",
        "t =\"in\"\n",
        "u =\"GeeksforGeeks\"\n",
        "\n",
        "# using iskeyword() function to check\n",
        "print(s, \"is a keyword in Python:\",\n",
        "\tkeyword.iskeyword(s))\n",
        "\n",
        "print(\"lambda is a keyword in Python:\",\n",
        "\tkeyword.iskeyword(\"lambda\"))\n",
        "\n",
        "print(\"print is a keyword in Python:\",\n",
        "\tkeyword.iskeyword(\"print\"))\n",
        "\n",
        "print(t, \"is a keyword in Python:\",\n",
        "\tkeyword.iskeyword(t))\n",
        "\n",
        "print(u, \"is a keyword in Python:\",\n",
        "\tkeyword.iskeyword(u))\n"
      ],
      "metadata": {
        "colab": {
          "base_uri": "https://localhost:8080/"
        },
        "id": "z0ubnJr1azUl",
        "outputId": "d3b15211-0132-40ae-d310-c66429ae2ee2"
      },
      "execution_count": 8,
      "outputs": [
        {
          "output_type": "stream",
          "name": "stdout",
          "text": [
            "if is a keyword in Python: True\n",
            "lambda is a keyword in Python: True\n",
            "print is a keyword in Python: False\n",
            "in is a keyword in Python: True\n",
            "GeeksforGeeks is a keyword in Python: False\n"
          ]
        }
      ]
    },
    {
      "cell_type": "markdown",
      "source": [],
      "metadata": {
        "id": "Ch6REVDSbc_V"
      }
    },
    {
      "cell_type": "markdown",
      "source": [
        "#question 4\n",
        "- Write a program that checks if a given word is a Python keyword."
      ],
      "metadata": {
        "id": "VHLS8oxkcVD8"
      }
    },
    {
      "cell_type": "code",
      "source": [
        "print(keyword.kwlist)"
      ],
      "metadata": {
        "colab": {
          "base_uri": "https://localhost:8080/"
        },
        "id": "Y-5xrJLPchVA",
        "outputId": "32fdf6fd-8e9b-44a4-e76c-4efa005b8d88"
      },
      "execution_count": 10,
      "outputs": [
        {
          "output_type": "stream",
          "name": "stdout",
          "text": [
            "['False', 'None', 'True', 'and', 'as', 'assert', 'async', 'await', 'break', 'class', 'continue', 'def', 'del', 'elif', 'else', 'except', 'finally', 'for', 'from', 'global', 'if', 'import', 'in', 'is', 'lambda', 'nonlocal', 'not', 'or', 'pass', 'raise', 'return', 'try', 'while', 'with', 'yield']\n"
          ]
        }
      ]
    },
    {
      "cell_type": "markdown",
      "source": [
        "#question 5\n",
        "- Create a list and tuple in Python, and demonstrate how attempting to change an element works differently\n",
        "for each."
      ],
      "metadata": {
        "id": "hnz5sI9keUv5"
      }
    },
    {
      "cell_type": "code",
      "source": [
        "num_list = [1,2,3,4,5]\n",
        "\n",
        "print(num_list)\n",
        "alphabets_list = ['a','b','c','d','e']\n",
        "print(alphabets_list)\n",
        "#A list can contain data of different data types. You can initiate it as follows -\n",
        "mixed_list = ['a', 1,'b',2,'c',3,'4']\n",
        "print(mixed_list)\n",
        "#You can create nested lists as well. A nested list is a list inside a list.\n",
        "nested_list = [1,2,3,[4,5,6],7,8]\n",
        "print(nested_list)"
      ],
      "metadata": {
        "colab": {
          "base_uri": "https://localhost:8080/"
        },
        "id": "WuFAYG1AeljX",
        "outputId": "0b11bcac-1af4-4cab-f569-80d7d6a7a590"
      },
      "execution_count": 13,
      "outputs": [
        {
          "output_type": "stream",
          "name": "stdout",
          "text": [
            "[1, 2, 3, 4, 5]\n",
            "['a', 'b', 'c', 'd', 'e']\n",
            "['a', 1, 'b', 2, 'c', 3, '4']\n",
            "[1, 2, 3, [4, 5, 6], 7, 8]\n"
          ]
        }
      ]
    },
    {
      "cell_type": "code",
      "source": [
        "num_tuple = (1,2,3,4,5)\n",
        "print(num_tuple)\n",
        "alphabets_tuple = ('a','b','c','d','e')\n",
        "print(alphabets_tuple)\n",
        "#A list can contain data of different data types. You can initiate it as follows -\n",
        "mixed_tuple = ('a', 1,'b', 2,'c', 'd', 3, 'e', 4)\n",
        "print(mixed_tuple)\n",
        "#You can create nested lists as well. A nested list is a list inside a list.\n",
        "nested_tuple = (1,2,3,(4,5,6),7,8)\n",
        "print(nested_tuple)"
      ],
      "metadata": {
        "colab": {
          "base_uri": "https://localhost:8080/"
        },
        "id": "CEJ5oX1UgyUu",
        "outputId": "0e559ec0-fab9-42f4-c278-e24e529ec355"
      },
      "execution_count": 17,
      "outputs": [
        {
          "output_type": "stream",
          "name": "stdout",
          "text": [
            "(1, 2, 3, 4, 5)\n",
            "('a', 'b', 'c', 'd', 'e')\n",
            "('a', 1, 'b', 2, 'c', 'd', 3, 'e', 4)\n",
            "(1, 2, 3, (4, 5, 6), 7, 8)\n"
          ]
        }
      ]
    },
    {
      "cell_type": "markdown",
      "source": [
        "#question 6\n",
        "- Write a function to demonstrate the behavior of mutable and immutable arguments"
      ],
      "metadata": {
        "id": "3LhKRIlIh11m"
      }
    },
    {
      "cell_type": "code",
      "source": [
        "# Python code to test that\n",
        "# tuples are immutable\n",
        "\n",
        "tuple1 = (0, 1, 2, 3)\n",
        "tuple1[0] = -4\n",
        "print(tuple1)\n"
      ],
      "metadata": {
        "colab": {
          "base_uri": "https://localhost:8080/",
          "height": 193
        },
        "id": "Sesw_eVSiFbu",
        "outputId": "34b51582-c462-45dc-a560-7604e604e230"
      },
      "execution_count": 20,
      "outputs": [
        {
          "output_type": "error",
          "ename": "TypeError",
          "evalue": "'tuple' object does not support item assignment",
          "traceback": [
            "\u001b[0;31m---------------------------------------------------------------------------\u001b[0m",
            "\u001b[0;31mTypeError\u001b[0m                                 Traceback (most recent call last)",
            "\u001b[0;32m<ipython-input-20-dae8c7d43a57>\u001b[0m in \u001b[0;36m<cell line: 0>\u001b[0;34m()\u001b[0m\n\u001b[1;32m      3\u001b[0m \u001b[0;34m\u001b[0m\u001b[0m\n\u001b[1;32m      4\u001b[0m \u001b[0mtuple1\u001b[0m \u001b[0;34m=\u001b[0m \u001b[0;34m(\u001b[0m\u001b[0;36m0\u001b[0m\u001b[0;34m,\u001b[0m \u001b[0;36m1\u001b[0m\u001b[0;34m,\u001b[0m \u001b[0;36m2\u001b[0m\u001b[0;34m,\u001b[0m \u001b[0;36m3\u001b[0m\u001b[0;34m)\u001b[0m\u001b[0;34m\u001b[0m\u001b[0;34m\u001b[0m\u001b[0m\n\u001b[0;32m----> 5\u001b[0;31m \u001b[0mtuple1\u001b[0m\u001b[0;34m[\u001b[0m\u001b[0;36m0\u001b[0m\u001b[0;34m]\u001b[0m \u001b[0;34m=\u001b[0m \u001b[0;34m-\u001b[0m\u001b[0;36m4\u001b[0m\u001b[0;34m\u001b[0m\u001b[0;34m\u001b[0m\u001b[0m\n\u001b[0m\u001b[1;32m      6\u001b[0m \u001b[0mprint\u001b[0m\u001b[0;34m(\u001b[0m\u001b[0mtuple1\u001b[0m\u001b[0;34m)\u001b[0m\u001b[0;34m\u001b[0m\u001b[0;34m\u001b[0m\u001b[0m\n",
            "\u001b[0;31mTypeError\u001b[0m: 'tuple' object does not support item assignment"
          ]
        }
      ]
    },
    {
      "cell_type": "code",
      "source": [
        "#Example 2: In this example, we will take a Python string and try to modify its value. Similar to the tuple, strings are immutable and will throw an error.\n",
        "\n",
        "# Python code to test that\n",
        "# strings are immutable\n",
        "\n",
        "message = \"Welcome to GeeksforGeeks\"\n",
        "message[0] = 'p'\n",
        "print(message)\n",
        "\n",
        "\n",
        "\n",
        "\n"
      ],
      "metadata": {
        "colab": {
          "base_uri": "https://localhost:8080/",
          "height": 211
        },
        "id": "_UReSulDjDPz",
        "outputId": "87be9283-801b-44fa-efd9-4f22ff9827d4"
      },
      "execution_count": 21,
      "outputs": [
        {
          "output_type": "error",
          "ename": "TypeError",
          "evalue": "'str' object does not support item assignment",
          "traceback": [
            "\u001b[0;31m---------------------------------------------------------------------------\u001b[0m",
            "\u001b[0;31mTypeError\u001b[0m                                 Traceback (most recent call last)",
            "\u001b[0;32m<ipython-input-21-c3c928beb90f>\u001b[0m in \u001b[0;36m<cell line: 0>\u001b[0;34m()\u001b[0m\n\u001b[1;32m      5\u001b[0m \u001b[0;34m\u001b[0m\u001b[0m\n\u001b[1;32m      6\u001b[0m \u001b[0mmessage\u001b[0m \u001b[0;34m=\u001b[0m \u001b[0;34m\"Welcome to GeeksforGeeks\"\u001b[0m\u001b[0;34m\u001b[0m\u001b[0;34m\u001b[0m\u001b[0m\n\u001b[0;32m----> 7\u001b[0;31m \u001b[0mmessage\u001b[0m\u001b[0;34m[\u001b[0m\u001b[0;36m0\u001b[0m\u001b[0;34m]\u001b[0m \u001b[0;34m=\u001b[0m \u001b[0;34m'p'\u001b[0m\u001b[0;34m\u001b[0m\u001b[0;34m\u001b[0m\u001b[0m\n\u001b[0m\u001b[1;32m      8\u001b[0m \u001b[0mprint\u001b[0m\u001b[0;34m(\u001b[0m\u001b[0mmessage\u001b[0m\u001b[0;34m)\u001b[0m\u001b[0;34m\u001b[0m\u001b[0;34m\u001b[0m\u001b[0m\n\u001b[1;32m      9\u001b[0m \u001b[0;34m\u001b[0m\u001b[0m\n",
            "\u001b[0;31mTypeError\u001b[0m: 'str' object does not support item assignment"
          ]
        }
      ]
    },
    {
      "cell_type": "code",
      "source": [
        "#Example: Add and Remove items from a list in Python\n",
        "\n",
        "#In this example, we will take a Python List object and try to modify its value using the index. A list in Python is mutable, that is, it allows us to change its value once it is created. Lists have the ability to add and remove elements dynamically. Lists provide methods such as append(),insert(),extend(),remove() and pop()."
      ],
      "metadata": {
        "id": "rDWCO7j4jb1y"
      },
      "execution_count": null,
      "outputs": []
    },
    {
      "cell_type": "code",
      "source": [
        "my_list = [1, 2, 3]\n",
        "my_list.append(4)\n",
        "print(my_list)\n",
        "\n",
        "my_list.insert(1, 5)\n",
        "print(my_list)\n",
        "\n",
        "my_list.remove(2)\n",
        "print(my_list)\n",
        "\n",
        "popped_element = my_list.pop(0)\n",
        "print(my_list)\n",
        "print(popped_element)\n"
      ],
      "metadata": {
        "colab": {
          "base_uri": "https://localhost:8080/"
        },
        "id": "sCml7W47jj3u",
        "outputId": "abd5b417-13e1-44ca-f074-3f309564dc99"
      },
      "execution_count": 22,
      "outputs": [
        {
          "output_type": "stream",
          "name": "stdout",
          "text": [
            "[1, 2, 3, 4]\n",
            "[1, 5, 2, 3, 4]\n",
            "[1, 5, 3, 4]\n",
            "[5, 3, 4]\n",
            "1\n"
          ]
        }
      ]
    },
    {
      "cell_type": "markdown",
      "source": [
        "#question 7\n",
        "- Write a program to demonstrate the use of logical operators?"
      ],
      "metadata": {
        "id": "ARg_VKh7jzjk"
      }
    },
    {
      "cell_type": "code",
      "source": [
        "#In Python, Logical operators are used on conditional statements (either True or False). They perform Logical AND, Logical OR, and Logical NOT operations.\n"
      ],
      "metadata": {
        "id": "Iy210jLIj9dq"
      },
      "execution_count": null,
      "outputs": []
    },
    {
      "cell_type": "code",
      "source": [
        "#Logical AND operator Example\n",
        "a = 10\n",
        "b = 10\n",
        "c = -10\n",
        "if a > 0 and b > 0:\n",
        "    print(\"The numbers are greater than 0\")\n",
        "if a > 0 and b > 0 and c > 0:\n",
        "    print(\"The numbers are greater than 0\")\n",
        "else:\n",
        "    print(\"Atleast one number is not greater than 0\")"
      ],
      "metadata": {
        "colab": {
          "base_uri": "https://localhost:8080/"
        },
        "id": "6LoJnx25la1m",
        "outputId": "9a55520a-199c-4d84-ab78-d081ea019c00"
      },
      "execution_count": 25,
      "outputs": [
        {
          "output_type": "stream",
          "name": "stdout",
          "text": [
            "The numbers are greater than 0\n",
            "Atleast one number is not greater than 0\n"
          ]
        }
      ]
    },
    {
      "cell_type": "code",
      "source": [
        "#Logical OR operator in Python Example\n",
        "a = 10\n",
        "b = -10\n",
        "c = 0\n",
        "if a > 0 or b > 0:\n",
        "    print(\"Either of the number is greater than 0\")\n",
        "else:\n",
        "    print(\"No number is greater than 0\")\n",
        "if b > 0 or c > 0:\n",
        "    print(\"Either of the number is greater than 0\")\n",
        "else:\n",
        "    print(\"No number is greater than 0\")\n"
      ],
      "metadata": {
        "colab": {
          "base_uri": "https://localhost:8080/"
        },
        "id": "Y1gb7mVXl6ce",
        "outputId": "a38c7917-af33-4e09-b658-f13b9ffce555"
      },
      "execution_count": 26,
      "outputs": [
        {
          "output_type": "stream",
          "name": "stdout",
          "text": [
            "Either of the number is greater than 0\n",
            "No number is greater than 0\n"
          ]
        }
      ]
    },
    {
      "cell_type": "code",
      "source": [
        "#Logical NOT Operator Example\n",
        "a = 10\n",
        "\n",
        "if not a:\n",
        "    print(\"Boolean value of a is True\")\n",
        "if not (a % 3 == 0 or a % 5 == 0):\n",
        "    print(\"10 is not divisible by either 3 or 5\")\n",
        "else:\n",
        "    print(\"10 is divisible by either 3 or 5\")\n"
      ],
      "metadata": {
        "colab": {
          "base_uri": "https://localhost:8080/"
        },
        "id": "rMcsWnMemDKM",
        "outputId": "0b68d5ec-d0f7-4cd7-f2fa-55ab534c724e"
      },
      "execution_count": 27,
      "outputs": [
        {
          "output_type": "stream",
          "name": "stdout",
          "text": [
            "10 is divisible by either 3 or 5\n"
          ]
        }
      ]
    },
    {
      "cell_type": "markdown",
      "source": [
        "#question 9\n",
        "- Write a Python program to convert user input from string to integer, float, and boolean types"
      ],
      "metadata": {
        "id": "-hUfSG4ImSI_"
      }
    },
    {
      "cell_type": "code",
      "source": [
        "\n",
        "# Convert a string to an integer\n",
        "numeric_string = \"42\"\n",
        "converted_integer = int(numeric_string)\n",
        "print(converted_integer)  # Output: 42"
      ],
      "metadata": {
        "colab": {
          "base_uri": "https://localhost:8080/"
        },
        "id": "pEPsh_cGmbcj",
        "outputId": "d664cb4e-53f6-44ee-e0da-e6f1396cd691"
      },
      "execution_count": 28,
      "outputs": [
        {
          "output_type": "stream",
          "name": "stdout",
          "text": [
            "42\n"
          ]
        }
      ]
    },
    {
      "cell_type": "code",
      "source": [
        "\n",
        "# Convert a string to a float\n",
        "decimal_string = \"3.14\"\n",
        "converted_float = float(decimal_string)\n",
        "print(converted_float)  # Output: 3.14"
      ],
      "metadata": {
        "colab": {
          "base_uri": "https://localhost:8080/"
        },
        "id": "QYXg0_drnDVj",
        "outputId": "e8845169-e145-4a04-d565-6b522dad31a8"
      },
      "execution_count": 29,
      "outputs": [
        {
          "output_type": "stream",
          "name": "stdout",
          "text": [
            "3.14\n"
          ]
        }
      ]
    },
    {
      "cell_type": "code",
      "source": [
        "newword1 = \"Football\"\n",
        "# Convert string to boolean\n",
        "y = bool(newword1)\n",
        "#printing the new value\n",
        "print(y)\n"
      ],
      "metadata": {
        "colab": {
          "base_uri": "https://localhost:8080/"
        },
        "id": "3TvSfbSWnRy8",
        "outputId": "17afabb6-d837-4ad5-ad02-1d8f781e5fc9"
      },
      "execution_count": 31,
      "outputs": [
        {
          "output_type": "stream",
          "name": "stdout",
          "text": [
            "True\n"
          ]
        }
      ]
    },
    {
      "cell_type": "markdown",
      "source": [
        "#questin 10\n",
        "-  Write code to demonstrate type casting with list elements?\n"
      ],
      "metadata": {
        "id": "BxhvVn_qoIlH"
      }
    },
    {
      "cell_type": "code",
      "source": [
        "#Using list comprehension\n",
        "#When type casting a whole list, list comprehension provides a concise one-liner approach. In the case of  nested list comprehensions allow us to apply the transformation to each sublist row as well. This method is favored for its readability and efficiency when the transformation is straightforward.\n",
        "a = [1, 4, 9, 10, 19]\n",
        "b = [[5, 6, 8], [8, 5, 3], [9, 10, 3]]\n",
        "\n",
        "c = [str(x) for x in a]\n",
        "d = [[str(x) for x in sub] for sub in b]\n",
        "\n",
        "print(c)\n",
        "print(d)\n",
        "\n"
      ],
      "metadata": {
        "colab": {
          "base_uri": "https://localhost:8080/"
        },
        "id": "mlyOcPrtoVwo",
        "outputId": "0a99afdc-a412-49f8-fed9-a6d0c1ad6039"
      },
      "execution_count": 32,
      "outputs": [
        {
          "output_type": "stream",
          "name": "stdout",
          "text": [
            "['1', '4', '9', '10', '19']\n",
            "[['5', '6', '8'], ['8', '5', '3'], ['9', '10', '3']]\n"
          ]
        }
      ]
    },
    {
      "cell_type": "markdown",
      "source": [
        "#question 11\n",
        "- Write a program that checks if a number is positive, negative, or zero?\n"
      ],
      "metadata": {
        "id": "6YxZ1XUVp4H0"
      }
    },
    {
      "cell_type": "code",
      "source": [
        "#The task is to check whether the number is positive or negative or zero.\n",
        "\n",
        "a=5\n",
        "b=-5\n",
        "\n",
        "#We will use the if-elif statements in Python. We will check whether the number is greater than zero or smaller than zero or equal to zero.\n",
        "# Python program to check whether\n",
        "# the number is positive, negative\n",
        "# or equal to zero\n",
        "\n",
        "def check(n):\n",
        "\n",
        "\t# if the number is positive\n",
        "\tif n > 0:\n",
        "\t\tprint(\"Positive\")\n",
        "\n",
        "\t# if the number is negative\n",
        "\telif n < 0:\n",
        "\t\tprint(\"Negative\")\n",
        "\n",
        "\t# if the number is equal to\n",
        "\t# zero\n",
        "\telse:\n",
        "\t\tprint(\"Equal to zero\")\n",
        "\n",
        "# Driver Code\n",
        "check(5)\n",
        "check(0)\n",
        "check(-5)\n"
      ],
      "metadata": {
        "colab": {
          "base_uri": "https://localhost:8080/"
        },
        "id": "yUXK7p8VqnJx",
        "outputId": "657b08ad-4a09-4f85-cb29-42925a83c0b5"
      },
      "execution_count": 35,
      "outputs": [
        {
          "output_type": "stream",
          "name": "stdout",
          "text": [
            "Positive\n",
            "Equal to zero\n",
            "Negative\n"
          ]
        }
      ]
    },
    {
      "cell_type": "markdown",
      "source": [
        "#question 12\n",
        "-  Write a for loop to print numbers from 1 to 10\n"
      ],
      "metadata": {
        "id": "SeISvCrrsA9v"
      }
    },
    {
      "cell_type": "code",
      "source": [
        "#Python program to print numbers from 1 to 10 using For loop\n",
        "print(\"Print integers 1 to 10 using for loop:\")\n",
        "for i in range(1, 11): # iterates for 10 times\n",
        "    print(i)"
      ],
      "metadata": {
        "colab": {
          "base_uri": "https://localhost:8080/"
        },
        "id": "UC2t9y5jsKD5",
        "outputId": "aa42fce3-36cc-4c1f-8f67-4ad286171e91"
      },
      "execution_count": 36,
      "outputs": [
        {
          "output_type": "stream",
          "name": "stdout",
          "text": [
            "Print integers 1 to 10 using for loop:\n",
            "1\n",
            "2\n",
            "3\n",
            "4\n",
            "5\n",
            "6\n",
            "7\n",
            "8\n",
            "9\n",
            "10\n"
          ]
        }
      ]
    },
    {
      "cell_type": "markdown",
      "source": [
        "#question 13\n",
        "-  Write a Python program to find the sum of all even numbers between 1 and 50.\n"
      ],
      "metadata": {
        "id": "5jua74PUsis3"
      }
    },
    {
      "cell_type": "code",
      "source": [
        "#What is an Even number?\n",
        "#An Even number is a number that is only divisible by 2.\n",
        "\n",
        "#For Example 0,2, 4, 6, 8, 10, 12, 14, 16,…\n",
        "#know we have to find all even numbers between 1 and 50\n",
        "def Sum_of_Even(n):\n",
        "    sum = 0\n",
        "    for i in range(0, n+1):\n",
        "        if i % 2 == 0:\n",
        "            print(i)\n",
        "            sum+=i\n",
        "    return sum\n",
        "\n",
        "num = int(input('Enter a number: '))\n",
        "print(f\"Sum of all the even numbers is {Sum_of_Even(num)}\")"
      ],
      "metadata": {
        "colab": {
          "base_uri": "https://localhost:8080/"
        },
        "id": "Ktn9AjTBsv0r",
        "outputId": "97e23369-109e-4d4f-d423-3b7643b1e69b"
      },
      "execution_count": 42,
      "outputs": [
        {
          "output_type": "stream",
          "name": "stdout",
          "text": [
            "Enter a number: 50\n",
            "0\n",
            "2\n",
            "4\n",
            "6\n",
            "8\n",
            "10\n",
            "12\n",
            "14\n",
            "16\n",
            "18\n",
            "20\n",
            "22\n",
            "24\n",
            "26\n",
            "28\n",
            "30\n",
            "32\n",
            "34\n",
            "36\n",
            "38\n",
            "40\n",
            "42\n",
            "44\n",
            "46\n",
            "48\n",
            "50\n",
            "Sum of all the even numbers is 650\n"
          ]
        }
      ]
    },
    {
      "cell_type": "markdown",
      "source": [
        "#qiustion 14\n",
        "- Write a program to reverse a string using a while loop?\n"
      ],
      "metadata": {
        "id": "XqhciGuSuv28"
      }
    },
    {
      "cell_type": "code",
      "source": [
        "#Program to reverse a String using While Loop\n",
        "a = input(\"Please enter your name : \")\n",
        "\n",
        "b = ''\n",
        "i = len(a) - 1\n",
        "\n",
        "while(i >= 0):\n",
        "    b = b + a[i]\n",
        "    i = i - 1\n",
        "\n",
        "print(\"\\nThe Original = \", a)\n",
        "print(\"The Inverted = \", b)"
      ],
      "metadata": {
        "colab": {
          "base_uri": "https://localhost:8080/"
        },
        "id": "m0Yvn3wOu4ia",
        "outputId": "0b17c4f0-026e-4aed-e283-12b5f189d413"
      },
      "execution_count": 44,
      "outputs": [
        {
          "output_type": "stream",
          "name": "stdout",
          "text": [
            "Please enter your name : raja\n",
            "\n",
            "The Original =  raja\n",
            "The Inverted =  ajar\n"
          ]
        }
      ]
    },
    {
      "cell_type": "markdown",
      "source": [
        "#questin 15\n",
        "- Write a Python program to calculate the factorial of a number provided by the user using a while loop.\n"
      ],
      "metadata": {
        "id": "cJw4C6Advy3j"
      }
    },
    {
      "cell_type": "code",
      "source": [
        "#Python Program to Print the Factorial of a Number Using While Loop\n",
        "# accept input number from user\n",
        "n = int(input(\"Enter any number: \"))\n",
        "\n",
        "# logic to calculate the factorial of a number\n",
        "f = 1\n",
        "while n >= 1:\n",
        "    f *= n\n",
        "    n -= 1\n",
        "\n",
        "# print output\n",
        "print(\"Factorial is\", f)\n",
        "#Below is the logic as well as the Factorial of a Number in Python Using While Loop. In the example code, we are using 5 as our variable."
      ],
      "metadata": {
        "colab": {
          "base_uri": "https://localhost:8080/"
        },
        "id": "m10kzoo0wzFq",
        "outputId": "77bca12c-e2c2-479e-c5c3-61e0d7a97ea4"
      },
      "execution_count": 47,
      "outputs": [
        {
          "output_type": "stream",
          "name": "stdout",
          "text": [
            "Enter any number: 12\n",
            "Factorial is 479001600\n"
          ]
        }
      ]
    }
  ]
}